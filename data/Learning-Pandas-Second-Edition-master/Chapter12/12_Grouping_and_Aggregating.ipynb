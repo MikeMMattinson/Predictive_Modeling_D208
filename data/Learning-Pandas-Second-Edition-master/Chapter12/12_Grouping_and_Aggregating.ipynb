{
 "cells": [
  {
   "cell_type": "markdown",
   "metadata": {},
   "source": [
    "# Configuring pandas"
   ]
  },
  {
   "cell_type": "code",
   "execution_count": 1,
   "metadata": {
    "collapsed": true
   },
   "outputs": [],
   "source": [
    "# import numpy and pandas\n",
    "import numpy as np\n",
    "import pandas as pd\n",
    "\n",
    "# used for dates\n",
    "import datetime\n",
    "from datetime import datetime, date\n",
    "\n",
    "# Set formattign options\n",
    "pd.set_option('display.notebook_repr_html', False)\n",
    "pd.set_option('display.max_columns', 7)\n",
    "pd.set_option('display.max_rows', 10)\n",
    "pd.set_option('display.width', 60)\n",
    "\n",
    "# bring in matplotlib for graphics\n",
    "import matplotlib.pyplot as plt\n",
    "%matplotlib inline"
   ]
  },
  {
   "cell_type": "markdown",
   "metadata": {},
   "source": [
    "# Data for the examples"
   ]
  },
  {
   "cell_type": "code",
   "execution_count": 2,
   "metadata": {},
   "outputs": [
    {
     "data": {
      "text/plain": [
       "   interval sensor axis  reading\n",
       "0         0  accel    Z      0.0\n",
       "1         0  accel    Y      0.5\n",
       "2         0  accel    X      1.0\n",
       "3         1  accel    Z      0.1\n",
       "4         1  accel    Y      0.4"
      ]
     },
     "execution_count": 2,
     "metadata": {},
     "output_type": "execute_result"
    }
   ],
   "source": [
    "# load the sensors data\n",
    "sensor_data = pd.read_csv(\"data/sensors.csv\")\n",
    "sensor_data[:5]"
   ]
  },
  {
   "cell_type": "markdown",
   "metadata": {},
   "source": [
    "# Grouping by a single column's values"
   ]
  },
  {
   "cell_type": "code",
   "execution_count": 3,
   "metadata": {},
   "outputs": [
    {
     "data": {
      "text/plain": [
       "<pandas.core.groupby.DataFrameGroupBy object at 0x10683e828>"
      ]
     },
     "execution_count": 3,
     "metadata": {},
     "output_type": "execute_result"
    }
   ],
   "source": [
    "# group this data by the sensor column / variable\n",
    "# returns a DataFrameGroupBy object\n",
    "grouped_by_sensor = sensor_data.groupby('sensor')\n",
    "grouped_by_sensor"
   ]
  },
  {
   "cell_type": "code",
   "execution_count": 4,
   "metadata": {},
   "outputs": [
    {
     "data": {
      "text/plain": [
       "2"
      ]
     },
     "execution_count": 4,
     "metadata": {},
     "output_type": "execute_result"
    }
   ],
   "source": [
    "# get the number of groups that this will create\n",
    "grouped_by_sensor.ngroups"
   ]
  },
  {
   "cell_type": "code",
   "execution_count": 5,
   "metadata": {},
   "outputs": [
    {
     "data": {
      "text/plain": [
       "{'accel': Int64Index([0, 1, 2, 3, 4, 5, 6, 7, 8, 9, 10, 11], dtype='int64'),\n",
       " 'orientation': Int64Index([12, 13, 14, 15, 16, 17, 18, 19, 20, 21, 22,\n",
       "             23],\n",
       "            dtype='int64')}"
      ]
     },
     "execution_count": 5,
     "metadata": {},
     "output_type": "execute_result"
    }
   ],
   "source": [
    "# what are the groups that were found?\n",
    "grouped_by_sensor.groups"
   ]
  },
  {
   "cell_type": "markdown",
   "metadata": {},
   "source": [
    "# Accessing the results of a grouping"
   ]
  },
  {
   "cell_type": "code",
   "execution_count": 6,
   "metadata": {
    "collapsed": true
   },
   "outputs": [],
   "source": [
    "# a helper function to print the contents of the groups\n",
    "def print_groups (group_object):\n",
    "    # loop over all groups, printing the group name \n",
    "    # and group details\n",
    "    for name, group in group_object:\n",
    "        print (name)\n",
    "        print (group[:5])"
   ]
  },
  {
   "cell_type": "code",
   "execution_count": 7,
   "metadata": {},
   "outputs": [
    {
     "name": "stdout",
     "output_type": "stream",
     "text": [
      "accel\n",
      "   interval sensor axis  reading\n",
      "0         0  accel    Z      0.0\n",
      "1         0  accel    Y      0.5\n",
      "2         0  accel    X      1.0\n",
      "3         1  accel    Z      0.1\n",
      "4         1  accel    Y      0.4\n",
      "orientation\n",
      "    interval       sensor axis  reading\n",
      "12         0  orientation    Z      0.0\n",
      "13         0  orientation    Y      0.1\n",
      "14         0  orientation    X      0.0\n",
      "15         1  orientation    Z      0.0\n",
      "16         1  orientation    Y      0.2\n"
     ]
    }
   ],
   "source": [
    "# examine the content of the groups we created\n",
    "print_groups(grouped_by_sensor)"
   ]
  },
  {
   "cell_type": "code",
   "execution_count": 8,
   "metadata": {},
   "outputs": [
    {
     "data": {
      "text/plain": [
       "sensor\n",
       "accel          12\n",
       "orientation    12\n",
       "dtype: int64"
      ]
     },
     "execution_count": 8,
     "metadata": {},
     "output_type": "execute_result"
    }
   ],
   "source": [
    "# get how many items are in each group\n",
    "grouped_by_sensor.size()"
   ]
  },
  {
   "cell_type": "code",
   "execution_count": 9,
   "metadata": {},
   "outputs": [
    {
     "data": {
      "text/plain": [
       "             interval  axis  reading\n",
       "sensor                              \n",
       "accel              12    12       12\n",
       "orientation        12    12       12"
      ]
     },
     "execution_count": 9,
     "metadata": {},
     "output_type": "execute_result"
    }
   ],
   "source": [
    "# get the count of items in each column of each group\n",
    "grouped_by_sensor.count()"
   ]
  },
  {
   "cell_type": "code",
   "execution_count": 10,
   "metadata": {},
   "outputs": [
    {
     "data": {
      "text/plain": [
       "   interval sensor axis  reading\n",
       "0         0  accel    Z      0.0\n",
       "1         0  accel    Y      0.5\n",
       "2         0  accel    X      1.0\n",
       "3         1  accel    Z      0.1\n",
       "4         1  accel    Y      0.4"
      ]
     },
     "execution_count": 10,
     "metadata": {},
     "output_type": "execute_result"
    }
   ],
   "source": [
    "# get the data in one specific group\n",
    "grouped_by_sensor.get_group('accel')[:5]"
   ]
  },
  {
   "cell_type": "code",
   "execution_count": 11,
   "metadata": {},
   "outputs": [
    {
     "data": {
      "text/plain": [
       "    interval       sensor axis  reading\n",
       "0          0        accel    Z      0.0\n",
       "1          0        accel    Y      0.5\n",
       "2          0        accel    X      1.0\n",
       "12         0  orientation    Z      0.0\n",
       "13         0  orientation    Y      0.1\n",
       "14         0  orientation    X      0.0"
      ]
     },
     "execution_count": 11,
     "metadata": {},
     "output_type": "execute_result"
    }
   ],
   "source": [
    "# get the first three items in each group\n",
    "grouped_by_sensor.head(3)"
   ]
  },
  {
   "cell_type": "code",
   "execution_count": 12,
   "metadata": {},
   "outputs": [
    {
     "data": {
      "text/plain": [
       "            axis  interval  reading\n",
       "sensor                             \n",
       "accel          Y         0      0.5\n",
       "orientation    Y         0      0.1"
      ]
     },
     "execution_count": 12,
     "metadata": {},
     "output_type": "execute_result"
    }
   ],
   "source": [
    "# get the 2nd item in each group\n",
    "grouped_by_sensor.nth(1)"
   ]
  },
  {
   "cell_type": "code",
   "execution_count": 13,
   "metadata": {},
   "outputs": [
    {
     "data": {
      "text/plain": [
       "            interval                ...  reading         \\\n",
       "               count mean       std ...      50%    75%   \n",
       "sensor                              ...                   \n",
       "accel           12.0  1.5  1.167748 ...     0.35  0.725   \n",
       "orientation     12.0  1.5  1.167748 ...     0.10  0.225   \n",
       "\n",
       "                  \n",
       "             max  \n",
       "sensor            \n",
       "accel        1.0  \n",
       "orientation  0.4  \n",
       "\n",
       "[2 rows x 16 columns]"
      ]
     },
     "execution_count": 13,
     "metadata": {},
     "output_type": "execute_result"
    }
   ],
   "source": [
    "# get descriptive statistics for each group\n",
    "grouped_by_sensor.describe()"
   ]
  },
  {
   "cell_type": "markdown",
   "metadata": {},
   "source": [
    "# Grouping using muiltiple columns"
   ]
  },
  {
   "cell_type": "code",
   "execution_count": 14,
   "metadata": {},
   "outputs": [
    {
     "name": "stdout",
     "output_type": "stream",
     "text": [
      "('accel', 'X')\n",
      "    interval sensor axis  reading\n",
      "2          0  accel    X      1.0\n",
      "5          1  accel    X      0.9\n",
      "8          2  accel    X      0.8\n",
      "11         3  accel    X      0.7\n",
      "('accel', 'Y')\n",
      "    interval sensor axis  reading\n",
      "1          0  accel    Y      0.5\n",
      "4          1  accel    Y      0.4\n",
      "7          2  accel    Y      0.3\n",
      "10         3  accel    Y      0.2\n",
      "('accel', 'Z')\n",
      "   interval sensor axis  reading\n",
      "0         0  accel    Z      0.0\n",
      "3         1  accel    Z      0.1\n",
      "6         2  accel    Z      0.2\n",
      "9         3  accel    Z      0.3\n",
      "('orientation', 'X')\n",
      "    interval       sensor axis  reading\n",
      "14         0  orientation    X      0.0\n",
      "17         1  orientation    X      0.1\n",
      "20         2  orientation    X      0.2\n",
      "23         3  orientation    X      0.3\n",
      "('orientation', 'Y')\n",
      "    interval       sensor axis  reading\n",
      "13         0  orientation    Y      0.1\n",
      "16         1  orientation    Y      0.2\n",
      "19         2  orientation    Y      0.3\n",
      "22         3  orientation    Y      0.4\n",
      "('orientation', 'Z')\n",
      "    interval       sensor axis  reading\n",
      "12         0  orientation    Z      0.0\n",
      "15         1  orientation    Z      0.0\n",
      "18         2  orientation    Z      0.0\n",
      "21         3  orientation    Z      0.0\n"
     ]
    }
   ],
   "source": [
    "# group by both sensor and axis values\n",
    "mcg = sensor_data.groupby(['sensor', 'axis'])\n",
    "print_groups(mcg)"
   ]
  },
  {
   "cell_type": "markdown",
   "metadata": {},
   "source": [
    "## Grouping using index levels"
   ]
  },
  {
   "cell_type": "code",
   "execution_count": 15,
   "metadata": {},
   "outputs": [
    {
     "data": {
      "text/plain": [
       "                  interval  reading\n",
       "sensor      axis                   \n",
       "accel       Z            0      0.0\n",
       "            Y            0      0.5\n",
       "            X            0      1.0\n",
       "            Z            1      0.1\n",
       "            Y            1      0.4\n",
       "...                    ...      ...\n",
       "orientation Y            2      0.3\n",
       "            X            2      0.2\n",
       "            Z            3      0.0\n",
       "            Y            3      0.4\n",
       "            X            3      0.3\n",
       "\n",
       "[24 rows x 2 columns]"
      ]
     },
     "execution_count": 15,
     "metadata": {},
     "output_type": "execute_result"
    }
   ],
   "source": [
    "# make a copy of the data and reindex the copy\n",
    "mi = sensor_data.copy()\n",
    "mi = mi.set_index(['sensor', 'axis'])\n",
    "mi"
   ]
  },
  {
   "cell_type": "code",
   "execution_count": 16,
   "metadata": {},
   "outputs": [
    {
     "name": "stdout",
     "output_type": "stream",
     "text": [
      "accel\n",
      "             interval  reading\n",
      "sensor axis                   \n",
      "accel  Z            0      0.0\n",
      "       Y            0      0.5\n",
      "       X            0      1.0\n",
      "       Z            1      0.1\n",
      "       Y            1      0.4\n",
      "orientation\n",
      "                  interval  reading\n",
      "sensor      axis                   \n",
      "orientation Z            0      0.0\n",
      "            Y            0      0.1\n",
      "            X            0      0.0\n",
      "            Z            1      0.0\n",
      "            Y            1      0.2\n"
     ]
    }
   ],
   "source": [
    "# group by the first level of the index \n",
    "print_groups(mi.groupby(level=0))"
   ]
  },
  {
   "cell_type": "code",
   "execution_count": 17,
   "metadata": {},
   "outputs": [
    {
     "name": "stdout",
     "output_type": "stream",
     "text": [
      "('accel', 'X')\n",
      "             interval  reading\n",
      "sensor axis                   \n",
      "accel  X            0      1.0\n",
      "       X            1      0.9\n",
      "       X            2      0.8\n",
      "       X            3      0.7\n",
      "('accel', 'Y')\n",
      "             interval  reading\n",
      "sensor axis                   \n",
      "accel  Y            0      0.5\n",
      "       Y            1      0.4\n",
      "       Y            2      0.3\n",
      "       Y            3      0.2\n",
      "('accel', 'Z')\n",
      "             interval  reading\n",
      "sensor axis                   \n",
      "accel  Z            0      0.0\n",
      "       Z            1      0.1\n",
      "       Z            2      0.2\n",
      "       Z            3      0.3\n",
      "('orientation', 'X')\n",
      "                  interval  reading\n",
      "sensor      axis                   \n",
      "orientation X            0      0.0\n",
      "            X            1      0.1\n",
      "            X            2      0.2\n",
      "            X            3      0.3\n",
      "('orientation', 'Y')\n",
      "                  interval  reading\n",
      "sensor      axis                   \n",
      "orientation Y            0      0.1\n",
      "            Y            1      0.2\n",
      "            Y            2      0.3\n",
      "            Y            3      0.4\n",
      "('orientation', 'Z')\n",
      "                  interval  reading\n",
      "sensor      axis                   \n",
      "orientation Z            0      0.0\n",
      "            Z            1      0.0\n",
      "            Z            2      0.0\n",
      "            Z            3      0.0\n"
     ]
    }
   ],
   "source": [
    "# group by multiple levels of the index\n",
    "print_groups(mi.groupby(level=['sensor', 'axis']))"
   ]
  },
  {
   "cell_type": "markdown",
   "metadata": {},
   "source": [
    "## Applying aggregation functions to groups"
   ]
  },
  {
   "cell_type": "code",
   "execution_count": 18,
   "metadata": {},
   "outputs": [
    {
     "data": {
      "text/plain": [
       "                  interval  reading\n",
       "sensor      axis                   \n",
       "accel       X          1.5     0.85\n",
       "            Y          1.5     0.35\n",
       "            Z          1.5     0.15\n",
       "orientation X          1.5     0.15\n",
       "            Y          1.5     0.25\n",
       "            Z          1.5     0.00"
      ]
     },
     "execution_count": 18,
     "metadata": {},
     "output_type": "execute_result"
    }
   ],
   "source": [
    "# calculate the mean for each sensor/axis\n",
    "sensor_axis_grouping = mi.groupby(level=['sensor', 'axis'])\n",
    "sensor_axis_grouping.agg(np.mean)"
   ]
  },
  {
   "cell_type": "code",
   "execution_count": 19,
   "metadata": {},
   "outputs": [
    {
     "data": {
      "text/plain": [
       "        sensor axis  interval  reading\n",
       "0        accel    X       1.5     0.85\n",
       "1        accel    Y       1.5     0.35\n",
       "2        accel    Z       1.5     0.15\n",
       "3  orientation    X       1.5     0.15\n",
       "4  orientation    Y       1.5     0.25\n",
       "5  orientation    Z       1.5     0.00"
      ]
     },
     "execution_count": 19,
     "metadata": {},
     "output_type": "execute_result"
    }
   ],
   "source": [
    "# do not create an index matching the original object\n",
    "sensor_data.groupby(['sensor', 'axis'], as_index=False).agg(np.mean)"
   ]
  },
  {
   "cell_type": "code",
   "execution_count": 20,
   "metadata": {},
   "outputs": [
    {
     "data": {
      "text/plain": [
       "                  interval  reading\n",
       "sensor      axis                   \n",
       "accel       X          1.5     0.85\n",
       "            Y          1.5     0.35\n",
       "            Z          1.5     0.15\n",
       "orientation X          1.5     0.15\n",
       "            Y          1.5     0.25\n",
       "            Z          1.5     0.00"
      ]
     },
     "execution_count": 20,
     "metadata": {},
     "output_type": "execute_result"
    }
   ],
   "source": [
    "# can simply apply the agg function to the group by object\n",
    "sensor_axis_grouping.mean()"
   ]
  },
  {
   "cell_type": "code",
   "execution_count": 21,
   "metadata": {},
   "outputs": [
    {
     "data": {
      "text/plain": [
       "                 interval           reading          \n",
       "                      sum       std     sum       std\n",
       "sensor      axis                                     \n",
       "accel       X           6  1.290994     3.4  0.129099\n",
       "            Y           6  1.290994     1.4  0.129099\n",
       "            Z           6  1.290994     0.6  0.129099\n",
       "orientation X           6  1.290994     0.6  0.129099\n",
       "            Y           6  1.290994     1.0  0.129099\n",
       "            Z           6  1.290994     0.0  0.000000"
      ]
     },
     "execution_count": 21,
     "metadata": {},
     "output_type": "execute_result"
    }
   ],
   "source": [
    "# apply multiple aggregation functions at once\n",
    "sensor_axis_grouping.agg([np.sum, np.std])"
   ]
  },
  {
   "cell_type": "code",
   "execution_count": 22,
   "metadata": {},
   "outputs": [
    {
     "data": {
      "text/plain": [
       "                  interval  reading\n",
       "sensor      axis                   \n",
       "accel       X            4     0.85\n",
       "            Y            4     0.35\n",
       "            Z            4     0.15\n",
       "orientation X            4     0.15\n",
       "            Y            4     0.25\n",
       "            Z            4     0.00"
      ]
     },
     "execution_count": 22,
     "metadata": {},
     "output_type": "execute_result"
    }
   ],
   "source": [
    "# apply a different function to each column\n",
    "sensor_axis_grouping.agg({'interval' : len,\n",
    "                          'reading': np.mean})"
   ]
  },
  {
   "cell_type": "code",
   "execution_count": 23,
   "metadata": {},
   "outputs": [
    {
     "data": {
      "text/plain": [
       "sensor       axis\n",
       "accel        X       0.85\n",
       "             Y       0.35\n",
       "             Z       0.15\n",
       "orientation  X       0.15\n",
       "             Y       0.25\n",
       "             Z       0.00\n",
       "Name: reading, dtype: float64"
      ]
     },
     "execution_count": 23,
     "metadata": {},
     "output_type": "execute_result"
    }
   ],
   "source": [
    "# calculate the mean of the reading column\n",
    "sensor_axis_grouping['reading'].mean()"
   ]
  },
  {
   "cell_type": "markdown",
   "metadata": {},
   "source": [
    "# Transforming groups of data"
   ]
  },
  {
   "cell_type": "code",
   "execution_count": 24,
   "metadata": {},
   "outputs": [
    {
     "data": {
      "text/plain": [
       "  Label Other  Values  Values2\n",
       "V     A   foo       0        5\n",
       "W     C   bar       1        6\n",
       "X     B   baz       2        7\n",
       "Y     A   fiz       3        8\n",
       "Z     C   buz       4        9"
      ]
     },
     "execution_count": 24,
     "metadata": {},
     "output_type": "execute_result"
    }
   ],
   "source": [
    "# a DataFrame to use for examples\n",
    "transform_data = pd.DataFrame({ 'Label': ['A', 'C', 'B', 'A', 'C'],\n",
    "                                'Values': [0, 1, 2, 3, 4],\n",
    "                                'Values2': [5, 6, 7, 8, 9],\n",
    "                                'Other': ['foo', 'bar', 'baz', \n",
    "                                          'fiz', 'buz']},\n",
    "                              index = list('VWXYZ'))\n",
    "transform_data"
   ]
  },
  {
   "cell_type": "code",
   "execution_count": 25,
   "metadata": {},
   "outputs": [
    {
     "name": "stdout",
     "output_type": "stream",
     "text": [
      "A\n",
      "  Label Other  Values  Values2\n",
      "V     A   foo       0        5\n",
      "Y     A   fiz       3        8\n",
      "B\n",
      "  Label Other  Values  Values2\n",
      "X     B   baz       2        7\n",
      "C\n",
      "  Label Other  Values  Values2\n",
      "W     C   bar       1        6\n",
      "Z     C   buz       4        9\n"
     ]
    }
   ],
   "source": [
    "# group by label\n",
    "grouped_by_label = transform_data.groupby('Label')\n",
    "print_groups(grouped_by_label)"
   ]
  },
  {
   "cell_type": "code",
   "execution_count": 26,
   "metadata": {},
   "outputs": [
    {
     "data": {
      "text/plain": [
       "   Values  Values2\n",
       "V      10       15\n",
       "W      11       16\n",
       "X      12       17\n",
       "Y      13       18\n",
       "Z      14       19"
      ]
     },
     "execution_count": 26,
     "metadata": {},
     "output_type": "execute_result"
    }
   ],
   "source": [
    "# add ten to all values in all columns\n",
    "grouped_by_label.transform(lambda x: x + 10)"
   ]
  },
  {
   "cell_type": "markdown",
   "metadata": {},
   "source": [
    "# Filling missing values with the mean of the group"
   ]
  },
  {
   "cell_type": "code",
   "execution_count": 27,
   "metadata": {},
   "outputs": [
    {
     "name": "stdout",
     "output_type": "stream",
     "text": [
      "A\n",
      "  Label  Values\n",
      "0     A    10.0\n",
      "2     A    11.0\n",
      "4     A    12.0\n",
      "B\n",
      "  Label  Values\n",
      "1     B    20.0\n",
      "3     B     NaN\n",
      "5     B    22.0\n"
     ]
    }
   ],
   "source": [
    "# data to demonstrate replacement on NaN\n",
    "df = pd.DataFrame({ 'Label': list(\"ABABAB\"),\n",
    "                    'Values': [10, 20, 11, np.nan, 12, 22]})\n",
    "grouped = df.groupby('Label')\n",
    "print_groups(grouped)"
   ]
  },
  {
   "cell_type": "code",
   "execution_count": 28,
   "metadata": {},
   "outputs": [
    {
     "data": {
      "text/plain": [
       "       Values\n",
       "Label        \n",
       "A        11.0\n",
       "B        21.0"
      ]
     },
     "execution_count": 28,
     "metadata": {},
     "output_type": "execute_result"
    }
   ],
   "source": [
    "# calculate the mean of the two groups\n",
    "grouped.mean()"
   ]
  },
  {
   "cell_type": "code",
   "execution_count": 29,
   "metadata": {},
   "outputs": [
    {
     "data": {
      "text/plain": [
       "   Values\n",
       "0    10.0\n",
       "1    20.0\n",
       "2    11.0\n",
       "3    21.0\n",
       "4    12.0\n",
       "5    22.0"
      ]
     },
     "execution_count": 29,
     "metadata": {},
     "output_type": "execute_result"
    }
   ],
   "source": [
    "# use transform to fill the NaNs with the mean of the group\n",
    "filled_NaNs = grouped.transform(lambda x: x.fillna(x.mean()))\n",
    "filled_NaNs"
   ]
  },
  {
   "cell_type": "markdown",
   "metadata": {},
   "source": [
    "# Calculating z-scores"
   ]
  },
  {
   "cell_type": "code",
   "execution_count": 30,
   "metadata": {},
   "outputs": [
    {
     "data": {
      "text/plain": [
       "2013-04-10    0.073603\n",
       "2013-04-11    0.057313\n",
       "2013-04-12    0.089255\n",
       "2013-04-13    0.133248\n",
       "2013-04-14    0.175876\n",
       "Freq: D, dtype: float64"
      ]
     },
     "execution_count": 30,
     "metadata": {},
     "output_type": "execute_result"
    }
   ],
   "source": [
    "# generate a rolling mean time series\n",
    "np.random.seed(123456)\n",
    "data = pd.Series(np.random.normal(0.5, 2, 365*3), \n",
    "                 pd.date_range('2013-01-01', periods=365*3))\n",
    "periods = 100\n",
    "rolling = data.rolling(\n",
    "    window=periods,\n",
    "    min_periods=periods,\n",
    "    center=False).mean().dropna()\n",
    "rolling[:5]"
   ]
  },
  {
   "cell_type": "code",
   "execution_count": 31,
   "metadata": {},
   "outputs": [
    {
     "data": {
      "image/png": "[encoded data removed]",
      "text/plain": [
       "<matplotlib.figure.Figure at 0x10b757cf8>"
      ]
     },
     "metadata": {},
     "output_type": "display_data"
    }
   ],
   "source": [
    "# visualize the series\n",
    "rolling.plot();"
   ]
  },
  {
   "cell_type": "code",
   "execution_count": 32,
   "metadata": {},
   "outputs": [
    {
     "data": {
      "text/plain": [
       "          mean       std\n",
       "2013  0.454233  0.171988\n",
       "2014  0.286502  0.182040\n",
       "2015  0.599447  0.275786"
      ]
     },
     "execution_count": 32,
     "metadata": {},
     "output_type": "execute_result"
    }
   ],
   "source": [
    "# calculate mean and std by year\n",
    "group_key = lambda x: x.year\n",
    "groups = rolling.groupby(group_key)\n",
    "groups.agg([np.mean, np.std])"
   ]
  },
  {
   "cell_type": "code",
   "execution_count": 33,
   "metadata": {},
   "outputs": [
    {
     "data": {
      "text/plain": [
       "              mean  std\n",
       "2013 -3.172066e-17  1.0\n",
       "2014 -1.881296e-15  1.0\n",
       "2015 -1.492261e-15  1.0"
      ]
     },
     "execution_count": 33,
     "metadata": {},
     "output_type": "execute_result"
    }
   ],
   "source": [
    "# normalize to the z-score\n",
    "z_score = lambda x: (x - x.mean()) / x.std()\n",
    "normed = rolling.groupby(group_key).transform(z_score)\n",
    "normed.groupby(group_key).agg([np.mean, np.std])"
   ]
  },
  {
   "cell_type": "code",
   "execution_count": 34,
   "metadata": {},
   "outputs": [
    {
     "data": {
      "image/png": "[encoded data removed]",
      "text/plain": [
       "<matplotlib.figure.Figure at 0x10dde4978>"
      ]
     },
     "metadata": {},
     "output_type": "display_data"
    }
   ],
   "source": [
    "# plot original vs normalize\n",
    "compared = pd.DataFrame({ 'Original': rolling,\n",
    "                          'Normed': normed })\n",
    "compared.plot();"
   ]
  },
  {
   "cell_type": "markdown",
   "metadata": {},
   "source": [
    "# Filtering groups"
   ]
  },
  {
   "cell_type": "code",
   "execution_count": 35,
   "metadata": {},
   "outputs": [
    {
     "data": {
      "text/plain": [
       "  Label  Values\n",
       "0     A     1.0\n",
       "1     A     2.0\n",
       "2     B     3.0\n",
       "3     C     4.0\n",
       "4     C     NaN\n",
       "5     C     8.0"
      ]
     },
     "execution_count": 35,
     "metadata": {},
     "output_type": "execute_result"
    }
   ],
   "source": [
    "# data for our examples\n",
    "df = pd.DataFrame({'Label': list('AABCCC'),\n",
    "                   'Values': [1, 2, 3, 4, np.nan, 8]})\n",
    "df"
   ]
  },
  {
   "cell_type": "code",
   "execution_count": 36,
   "metadata": {},
   "outputs": [
    {
     "data": {
      "text/plain": [
       "  Label  Values\n",
       "0     A     1.0\n",
       "1     A     2.0\n",
       "3     C     4.0\n",
       "4     C     NaN\n",
       "5     C     8.0"
      ]
     },
     "execution_count": 36,
     "metadata": {},
     "output_type": "execute_result"
    }
   ],
   "source": [
    "# drop groups with one or fewer non-NaN values\n",
    "f = lambda x: x.Values.count() > 1\n",
    "df.groupby('Label').filter(f)"
   ]
  },
  {
   "cell_type": "code",
   "execution_count": 37,
   "metadata": {},
   "outputs": [
    {
     "data": {
      "text/plain": [
       "  Label  Values\n",
       "0     A     1.0\n",
       "1     A     2.0\n",
       "2     B     3.0"
      ]
     },
     "execution_count": 37,
     "metadata": {},
     "output_type": "execute_result"
    }
   ],
   "source": [
    "# drop any groups with NaN values\n",
    "f = lambda x: x.Values.isnull().sum() == 0\n",
    "df.groupby('Label').filter(f)"
   ]
  },
  {
   "cell_type": "code",
   "execution_count": 38,
   "metadata": {},
   "outputs": [
    {
     "data": {
      "text/plain": [
       "  Label  Values\n",
       "3     C     4.0\n",
       "4     C     NaN\n",
       "5     C     8.0"
      ]
     },
     "execution_count": 38,
     "metadata": {},
     "output_type": "execute_result"
    }
   ],
   "source": [
    "# select groups with a mean of 2.0 or greater \n",
    "grouped = df.groupby('Label')\n",
    "group_mean = grouped.mean().mean()\n",
    "f = lambda x: abs(x.Values.mean() - group_mean) > 2.0\n",
    "df.groupby('Label').filter(f)"
   ]
  }
 ],
 "metadata": {
  "kernelspec": {
   "display_name": "Python 3",
   "language": "python",
   "name": "python3"
  },
  "language_info": {
   "codemirror_mode": {
    "name": "ipython",
    "version": 3
   },
   "file_extension": ".py",
   "mimetype": "text/x-python",
   "name": "python",
   "nbconvert_exporter": "python",
   "pygments_lexer": "ipython3",
   "version": "3.6.1"
  }
 },
 "nbformat": 4,
 "nbformat_minor": 1
}
