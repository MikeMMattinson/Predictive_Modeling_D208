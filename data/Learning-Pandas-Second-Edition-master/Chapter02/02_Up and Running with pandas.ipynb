{
 "cells": [
  {
   "cell_type": "markdown",
   "metadata": {},
   "source": [
    "# Configuring pandas"
   ]
  },
  {
   "cell_type": "code",
   "execution_count": 1,
   "metadata": {
    "collapsed": false
   },
   "outputs": [],
   "source": [
    "# import numpy and pandas\n",
    "import numpy as np\n",
    "import pandas as pd\n",
    "\n",
    "# used for dates\n",
    "import datetime\n",
    "from datetime import datetime, date\n",
    "\n",
    "# Set some pandas options controlling output format\n",
    "pd.set_option('display.notebook_repr_html', False)\n",
    "pd.set_option('display.max_columns', 8)\n",
    "pd.set_option('display.max_rows', 10)\n",
    "pd.set_option('display.width', 80)\n",
    "\n",
    "# bring in matplotlib for graphics\n",
    "import matplotlib.pyplot as plt\n",
    "%matplotlib inline"
   ]
  },
  {
   "cell_type": "markdown",
   "metadata": {},
   "source": [
    "# The pandas Series"
   ]
  },
  {
   "cell_type": "code",
   "execution_count": 2,
   "metadata": {
    "collapsed": false
   },
   "outputs": [
    {
     "data": {
      "text/plain": [
       "0    1\n",
       "1    2\n",
       "2    3\n",
       "3    4\n",
       "dtype: int64"
      ]
     },
     "execution_count": 2,
     "metadata": {},
     "output_type": "execute_result"
    }
   ],
   "source": [
    "# create a four item Series\n",
    "s = pd.Series([1, 2, 3, 4])\n",
    "s"
   ]
  },
  {
   "cell_type": "code",
   "execution_count": 3,
   "metadata": {
    "collapsed": false
   },
   "outputs": [
    {
     "data": {
      "text/plain": [
       "2"
      ]
     },
     "execution_count": 3,
     "metadata": {},
     "output_type": "execute_result"
    }
   ],
   "source": [
    "# get value at label 1\n",
    "s[1]"
   ]
  },
  {
   "cell_type": "code",
   "execution_count": 4,
   "metadata": {
    "collapsed": false
   },
   "outputs": [
    {
     "data": {
      "text/plain": [
       "1    2\n",
       "3    4\n",
       "dtype: int64"
      ]
     },
     "execution_count": 4,
     "metadata": {},
     "output_type": "execute_result"
    }
   ],
   "source": [
    "# return a Series with the row with labels 1 and 3\n",
    "s[[1, 3]]"
   ]
  },
  {
   "cell_type": "code",
   "execution_count": 5,
   "metadata": {
    "collapsed": false
   },
   "outputs": [
    {
     "data": {
      "text/plain": [
       "a    1\n",
       "b    2\n",
       "c    3\n",
       "d    4\n",
       "dtype: int64"
      ]
     },
     "execution_count": 5,
     "metadata": {},
     "output_type": "execute_result"
    }
   ],
   "source": [
    "# create a series using an explicit index\n",
    "s = pd.Series([1, 2, 3, 4], \n",
    "               index = ['a', 'b', 'c', 'd'])\n",
    "s"
   ]
  },
  {
   "cell_type": "code",
   "execution_count": 6,
   "metadata": {
    "collapsed": false
   },
   "outputs": [
    {
     "data": {
      "text/plain": [
       "a    1\n",
       "d    4\n",
       "dtype: int64"
      ]
     },
     "execution_count": 6,
     "metadata": {},
     "output_type": "execute_result"
    }
   ],
   "source": [
    "# look up items the series having index 'a' and 'd'\n",
    "s[['a', 'd']]"
   ]
  },
  {
   "cell_type": "code",
   "execution_count": 7,
   "metadata": {
    "collapsed": false
   },
   "outputs": [
    {
     "data": {
      "text/plain": [
       "b    2\n",
       "c    3\n",
       "dtype: int64"
      ]
     },
     "execution_count": 7,
     "metadata": {},
     "output_type": "execute_result"
    }
   ],
   "source": [
    "# passing a list of integers to a Series that has\n",
    "# non-integer index labels will look up based upon\n",
    "# 0-based index like an array\n",
    "s[[1, 2]]"
   ]
  },
  {
   "cell_type": "code",
   "execution_count": 8,
   "metadata": {
    "collapsed": false
   },
   "outputs": [
    {
     "data": {
      "text/plain": [
       "Index(['a', 'b', 'c', 'd'], dtype='object')"
      ]
     },
     "execution_count": 8,
     "metadata": {},
     "output_type": "execute_result"
    }
   ],
   "source": [
    "# get only the index of the Series\n",
    "s.index"
   ]
  },
  {
   "cell_type": "code",
   "execution_count": 9,
   "metadata": {
    "collapsed": false
   },
   "outputs": [
    {
     "data": {
      "text/plain": [
       "DatetimeIndex(['2016-04-01', '2016-04-02', '2016-04-03', '2016-04-04',\n",
       "               '2016-04-05', '2016-04-06'],\n",
       "              dtype='datetime64[ns]', freq='D')"
      ]
     },
     "execution_count": 9,
     "metadata": {},
     "output_type": "execute_result"
    }
   ],
   "source": [
    "# create a Series who's index is a series of dates\n",
    "# between the two specified dates (inclusive)\n",
    "dates = pd.date_range('2016-04-01', '2016-04-06')\n",
    "dates"
   ]
  },
  {
   "cell_type": "code",
   "execution_count": 10,
   "metadata": {
    "collapsed": false
   },
   "outputs": [
    {
     "data": {
      "text/plain": [
       "2016-04-01    80\n",
       "2016-04-02    82\n",
       "2016-04-03    85\n",
       "2016-04-04    90\n",
       "2016-04-05    83\n",
       "2016-04-06    87\n",
       "Freq: D, dtype: int64"
      ]
     },
     "execution_count": 10,
     "metadata": {},
     "output_type": "execute_result"
    }
   ],
   "source": [
    "# create a Series with values (representing temperatures)\n",
    "# for each date in the index\n",
    "temps1 = pd.Series([80, 82, 85, 90, 83, 87], \n",
    "                   index = dates)\n",
    "temps1"
   ]
  },
  {
   "cell_type": "code",
   "execution_count": 11,
   "metadata": {
    "collapsed": false
   },
   "outputs": [
    {
     "data": {
      "text/plain": [
       "90"
      ]
     },
     "execution_count": 11,
     "metadata": {},
     "output_type": "execute_result"
    }
   ],
   "source": [
    "# what's the temperation for 2016-4-4?\n",
    "temps1['2016-04-04']"
   ]
  },
  {
   "cell_type": "code",
   "execution_count": 12,
   "metadata": {
    "collapsed": false
   },
   "outputs": [
    {
     "data": {
      "text/plain": [
       "2016-04-01    10\n",
       "2016-04-02     7\n",
       "2016-04-03    16\n",
       "2016-04-04     7\n",
       "2016-04-05     4\n",
       "2016-04-06    10\n",
       "Freq: D, dtype: int64"
      ]
     },
     "execution_count": 12,
     "metadata": {},
     "output_type": "execute_result"
    }
   ],
   "source": [
    "# create a second series of values using the same index\n",
    "temps2 = pd.Series([70, 75, 69, 83, 79, 77], \n",
    "                   index = dates)\n",
    "# the following aligns the two by their index values\n",
    "# and calculates the difference at those matching labels\n",
    "temp_diffs = temps1 - temps2\n",
    "temp_diffs"
   ]
  },
  {
   "cell_type": "code",
   "execution_count": 13,
   "metadata": {
    "collapsed": false
   },
   "outputs": [
    {
     "data": {
      "text/plain": [
       "16"
      ]
     },
     "execution_count": 13,
     "metadata": {},
     "output_type": "execute_result"
    }
   ],
   "source": [
    "# and also possible by integer position as if the \n",
    "# series was an array\n",
    "temp_diffs[2]"
   ]
  },
  {
   "cell_type": "code",
   "execution_count": 14,
   "metadata": {
    "collapsed": false
   },
   "outputs": [
    {
     "data": {
      "text/plain": [
       "9.0"
      ]
     },
     "execution_count": 14,
     "metadata": {},
     "output_type": "execute_result"
    }
   ],
   "source": [
    "# calculate the mean of the values in the Series\n",
    "temp_diffs.mean()"
   ]
  },
  {
   "cell_type": "markdown",
   "metadata": {
    "collapsed": true
   },
   "source": [
    "# The pandas DataFrame"
   ]
  },
  {
   "cell_type": "code",
   "execution_count": 15,
   "metadata": {
    "collapsed": false
   },
   "outputs": [
    {
     "data": {
      "text/plain": [
       "            Missoula  Philadelphia\n",
       "2016-04-01        80            70\n",
       "2016-04-02        82            75\n",
       "2016-04-03        85            69\n",
       "2016-04-04        90            83\n",
       "2016-04-05        83            79\n",
       "2016-04-06        87            77"
      ]
     },
     "execution_count": 15,
     "metadata": {},
     "output_type": "execute_result"
    }
   ],
   "source": [
    "# create a DataFrame from the two series objects temp1 and temp2\n",
    "# and give them column names\n",
    "temps_df = pd.DataFrame(\n",
    "            {'Missoula': temps1, \n",
    "             'Philadelphia': temps2})\n",
    "temps_df"
   ]
  },
  {
   "cell_type": "code",
   "execution_count": 16,
   "metadata": {
    "collapsed": false
   },
   "outputs": [
    {
     "data": {
      "text/plain": [
       "2016-04-01    80\n",
       "2016-04-02    82\n",
       "2016-04-03    85\n",
       "2016-04-04    90\n",
       "2016-04-05    83\n",
       "2016-04-06    87\n",
       "Freq: D, Name: Missoula, dtype: int64"
      ]
     },
     "execution_count": 16,
     "metadata": {},
     "output_type": "execute_result"
    }
   ],
   "source": [
    "# get the column with the name Missoula\n",
    "temps_df['Missoula']"
   ]
  },
  {
   "cell_type": "code",
   "execution_count": 17,
   "metadata": {
    "collapsed": false
   },
   "outputs": [
    {
     "data": {
      "text/plain": [
       "2016-04-01    70\n",
       "2016-04-02    75\n",
       "2016-04-03    69\n",
       "2016-04-04    83\n",
       "2016-04-05    79\n",
       "2016-04-06    77\n",
       "Freq: D, Name: Philadelphia, dtype: int64"
      ]
     },
     "execution_count": 17,
     "metadata": {},
     "output_type": "execute_result"
    }
   ],
   "source": [
    "# likewise we can get just the Philadelphia column\n",
    "temps_df['Philadelphia']"
   ]
  },
  {
   "cell_type": "code",
   "execution_count": 18,
   "metadata": {
    "collapsed": false
   },
   "outputs": [
    {
     "data": {
      "text/plain": [
       "            Philadelphia  Missoula\n",
       "2016-04-01            70        80\n",
       "2016-04-02            75        82\n",
       "2016-04-03            69        85\n",
       "2016-04-04            83        90\n",
       "2016-04-05            79        83\n",
       "2016-04-06            77        87"
      ]
     },
     "execution_count": 18,
     "metadata": {},
     "output_type": "execute_result"
    }
   ],
   "source": [
    "# return both columns in a different order\n",
    "temps_df[['Philadelphia', 'Missoula']]"
   ]
  },
  {
   "cell_type": "code",
   "execution_count": 19,
   "metadata": {
    "collapsed": false
   },
   "outputs": [
    {
     "data": {
      "text/plain": [
       "2016-04-01    80\n",
       "2016-04-02    82\n",
       "2016-04-03    85\n",
       "2016-04-04    90\n",
       "2016-04-05    83\n",
       "2016-04-06    87\n",
       "Freq: D, Name: Missoula, dtype: int64"
      ]
     },
     "execution_count": 19,
     "metadata": {},
     "output_type": "execute_result"
    }
   ],
   "source": [
    "# retrieve the Missoula column through property syntax\n",
    "temps_df.Missoula"
   ]
  },
  {
   "cell_type": "code",
   "execution_count": 20,
   "metadata": {
    "collapsed": false
   },
   "outputs": [
    {
     "data": {
      "text/plain": [
       "2016-04-01    10\n",
       "2016-04-02     7\n",
       "2016-04-03    16\n",
       "2016-04-04     7\n",
       "2016-04-05     4\n",
       "2016-04-06    10\n",
       "Freq: D, dtype: int64"
      ]
     },
     "execution_count": 20,
     "metadata": {},
     "output_type": "execute_result"
    }
   ],
   "source": [
    "# calculate the temperature difference between the two cities\n",
    "temps_df.Missoula - temps_df.Philadelphia"
   ]
  },
  {
   "cell_type": "code",
   "execution_count": 21,
   "metadata": {
    "collapsed": false
   },
   "outputs": [
    {
     "data": {
      "text/plain": [
       "            Missoula  Philadelphia  Difference\n",
       "2016-04-01        80            70          10\n",
       "2016-04-02        82            75           7\n",
       "2016-04-03        85            69          16\n",
       "2016-04-04        90            83           7\n",
       "2016-04-05        83            79           4\n",
       "2016-04-06        87            77          10"
      ]
     },
     "execution_count": 21,
     "metadata": {},
     "output_type": "execute_result"
    }
   ],
   "source": [
    "# add a column to temp_df which contains the difference in temps\n",
    "temps_df['Difference'] = temp_diffs\n",
    "temps_df"
   ]
  },
  {
   "cell_type": "code",
   "execution_count": 22,
   "metadata": {
    "collapsed": false
   },
   "outputs": [
    {
     "data": {
      "text/plain": [
       "Index(['Missoula', 'Philadelphia', 'Difference'], dtype='object')"
      ]
     },
     "execution_count": 22,
     "metadata": {},
     "output_type": "execute_result"
    }
   ],
   "source": [
    "# get the columns, which is also an Index object\n",
    "temps_df.columns"
   ]
  },
  {
   "cell_type": "code",
   "execution_count": 23,
   "metadata": {
    "collapsed": false
   },
   "outputs": [
    {
     "data": {
      "text/plain": [
       "2016-04-02     7\n",
       "2016-04-03    16\n",
       "2016-04-04     7\n",
       "Freq: D, Name: Difference, dtype: int64"
      ]
     },
     "execution_count": 23,
     "metadata": {},
     "output_type": "execute_result"
    }
   ],
   "source": [
    "# slice the temp differences column for the rows at \n",
    "# location 1 through 4 (as though it is an array)\n",
    "temps_df.Difference[1:4]"
   ]
  },
  {
   "cell_type": "code",
   "execution_count": 24,
   "metadata": {
    "collapsed": false
   },
   "outputs": [
    {
     "data": {
      "text/plain": [
       "Missoula        82\n",
       "Philadelphia    75\n",
       "Difference       7\n",
       "Name: 2016-04-02 00:00:00, dtype: int64"
      ]
     },
     "execution_count": 24,
     "metadata": {},
     "output_type": "execute_result"
    }
   ],
   "source": [
    "# get the row at array position 1\n",
    "temps_df.iloc[1]"
   ]
  },
  {
   "cell_type": "code",
   "execution_count": 25,
   "metadata": {
    "collapsed": false
   },
   "outputs": [
    {
     "data": {
      "text/plain": [
       "Index(['Missoula', 'Philadelphia', 'Difference'], dtype='object')"
      ]
     },
     "execution_count": 25,
     "metadata": {},
     "output_type": "execute_result"
    }
   ],
   "source": [
    "# the names of the columns have become the index\n",
    "# they have been 'pivoted'\n",
    "temps_df.iloc[1].index"
   ]
  },
  {
   "cell_type": "code",
   "execution_count": 26,
   "metadata": {
    "collapsed": false
   },
   "outputs": [
    {
     "data": {
      "text/plain": [
       "Missoula        83\n",
       "Philadelphia    79\n",
       "Difference       4\n",
       "Name: 2016-04-05 00:00:00, dtype: int64"
      ]
     },
     "execution_count": 26,
     "metadata": {},
     "output_type": "execute_result"
    }
   ],
   "source": [
    "# retrieve row by index label using .loc\n",
    "temps_df.loc['2016-04-05']"
   ]
  },
  {
   "cell_type": "code",
   "execution_count": 27,
   "metadata": {
    "collapsed": false
   },
   "outputs": [
    {
     "data": {
      "text/plain": [
       "2016-04-02     7\n",
       "2016-04-04     7\n",
       "2016-04-06    10\n",
       "Freq: 2D, Name: Difference, dtype: int64"
      ]
     },
     "execution_count": 27,
     "metadata": {},
     "output_type": "execute_result"
    }
   ],
   "source": [
    "# get the values in the Differences column in tows 1, 3 and 5\n",
    "# using 0-based location\n",
    "temps_df.iloc[[1, 3, 5]].Difference"
   ]
  },
  {
   "cell_type": "code",
   "execution_count": 28,
   "metadata": {
    "collapsed": false
   },
   "outputs": [
    {
     "data": {
      "text/plain": [
       "2016-04-01    False\n",
       "2016-04-02    False\n",
       "2016-04-03     True\n",
       "2016-04-04     True\n",
       "2016-04-05     True\n",
       "2016-04-06     True\n",
       "Freq: D, Name: Missoula, dtype: bool"
      ]
     },
     "execution_count": 28,
     "metadata": {},
     "output_type": "execute_result"
    }
   ],
   "source": [
    "# which values in the Missoula column are > 82?\n",
    "temps_df.Missoula > 82"
   ]
  },
  {
   "cell_type": "code",
   "execution_count": 29,
   "metadata": {
    "collapsed": false
   },
   "outputs": [
    {
     "data": {
      "text/plain": [
       "            Missoula  Philadelphia  Difference\n",
       "2016-04-03        85            69          16\n",
       "2016-04-04        90            83           7\n",
       "2016-04-05        83            79           4\n",
       "2016-04-06        87            77          10"
      ]
     },
     "execution_count": 29,
     "metadata": {},
     "output_type": "execute_result"
    }
   ],
   "source": [
    "# return the rows where the temps for Missoula > 82\n",
    "temps_df[temps_df.Missoula > 82]"
   ]
  },
  {
   "cell_type": "markdown",
   "metadata": {},
   "source": [
    "# Loading data from a CSV file into a DataFrame"
   ]
  },
  {
   "cell_type": "code",
   "execution_count": 30,
   "metadata": {
    "collapsed": false
   },
   "outputs": [
    {
     "name": "stdout",
     "output_type": "stream",
     "text": [
      "Date,Open,High,Low,Close,Volume\r",
      "\r\n",
      "12/19/2016,790.219971,797.659973,786.27002,794.200012,1225900\r",
      "\r\n",
      "12/20/2016,796.76001,798.650024,793.27002,796.419983,925100\r",
      "\r\n",
      "12/21/2016,795.840027,796.676025,787.099976,794.559998,1208700\r",
      "\r\n",
      "12/22/2016,792.359985,793.320007,788.580017,791.26001,969100\r",
      "\r\n",
      "12/23/2016,790.900024,792.73999,787.280029,789.909973,623400\r",
      "\r\n",
      "12/27/2016,790.679993,797.859985,787.656982,791.549988,789100\r",
      "\r\n",
      "12/28/2016,793.700012,794.22998,783.200012,785.049988,1132700\r",
      "\r\n",
      "12/29/2016,783.330017,785.929993,778.919983,782.789978,742200\r",
      "\r\n",
      "12/30/2016,782.75,782.780029,770.409973,771.820007,1760200\r",
      "\r\n"
     ]
    }
   ],
   "source": [
    "# display the contents of test1.csv\n",
    "# which command to use depends on your OS\n",
    "!head data/goog.csv # on non-windows systems\n",
    "#!type data/test1.csv # on windows systems, all lines"
   ]
  },
  {
   "cell_type": "code",
   "execution_count": 31,
   "metadata": {
    "collapsed": false
   },
   "outputs": [
    {
     "data": {
      "text/plain": [
       "          Date        Open        High         Low       Close   Volume\n",
       "0   12/19/2016  790.219971  797.659973  786.270020  794.200012  1225900\n",
       "1   12/20/2016  796.760010  798.650024  793.270020  796.419983   925100\n",
       "2   12/21/2016  795.840027  796.676025  787.099976  794.559998  1208700\n",
       "3   12/22/2016  792.359985  793.320007  788.580017  791.260010   969100\n",
       "4   12/23/2016  790.900024  792.739990  787.280029  789.909973   623400\n",
       "..         ...         ...         ...         ...         ...      ...\n",
       "56   3/13/2017  844.000000  848.684998  843.250000  845.539978  1149500\n",
       "57   3/14/2017  843.640015  847.239990  840.799988  845.619995   779900\n",
       "58   3/15/2017  847.590027  848.630005  840.770020  847.200012  1379600\n",
       "59   3/16/2017  849.030029  850.849976  846.130005  848.780029   970400\n",
       "60   3/17/2017  851.609985  853.400024  847.109985  852.119995  1712300\n",
       "\n",
       "[61 rows x 6 columns]"
      ]
     },
     "execution_count": 31,
     "metadata": {},
     "output_type": "execute_result"
    }
   ],
   "source": [
    "# read the contents of the file into a DataFrame\n",
    "df = pd.read_csv('data/goog.csv')\n",
    "df"
   ]
  },
  {
   "cell_type": "code",
   "execution_count": 32,
   "metadata": {
    "collapsed": false
   },
   "outputs": [
    {
     "data": {
      "text/plain": [
       "0     12/19/2016\n",
       "1     12/20/2016\n",
       "2     12/21/2016\n",
       "3     12/22/2016\n",
       "4     12/23/2016\n",
       "         ...    \n",
       "56     3/13/2017\n",
       "57     3/14/2017\n",
       "58     3/15/2017\n",
       "59     3/16/2017\n",
       "60     3/17/2017\n",
       "Name: Date, Length: 61, dtype: object"
      ]
     },
     "execution_count": 32,
     "metadata": {},
     "output_type": "execute_result"
    }
   ],
   "source": [
    "# the contents of the date column\n",
    "df.Date"
   ]
  },
  {
   "cell_type": "code",
   "execution_count": 33,
   "metadata": {
    "collapsed": false
   },
   "outputs": [
    {
     "data": {
      "text/plain": [
       "'12/19/2016'"
      ]
     },
     "execution_count": 33,
     "metadata": {},
     "output_type": "execute_result"
    }
   ],
   "source": [
    "# we can get the first value in the date column\n",
    "df.Date[0]"
   ]
  },
  {
   "cell_type": "code",
   "execution_count": 34,
   "metadata": {
    "collapsed": false
   },
   "outputs": [
    {
     "data": {
      "text/plain": [
       "str"
      ]
     },
     "execution_count": 34,
     "metadata": {},
     "output_type": "execute_result"
    }
   ],
   "source": [
    "# it is a string\n",
    "type(df.Date[0])"
   ]
  },
  {
   "cell_type": "code",
   "execution_count": 35,
   "metadata": {
    "collapsed": false
   },
   "outputs": [
    {
     "data": {
      "text/plain": [
       "         Date        Open        High         Low       Close   Volume\n",
       "0  2016-12-19  790.219971  797.659973  786.270020  794.200012  1225900\n",
       "1  2016-12-20  796.760010  798.650024  793.270020  796.419983   925100\n",
       "2  2016-12-21  795.840027  796.676025  787.099976  794.559998  1208700\n",
       "3  2016-12-22  792.359985  793.320007  788.580017  791.260010   969100\n",
       "4  2016-12-23  790.900024  792.739990  787.280029  789.909973   623400\n",
       "..        ...         ...         ...         ...         ...      ...\n",
       "56 2017-03-13  844.000000  848.684998  843.250000  845.539978  1149500\n",
       "57 2017-03-14  843.640015  847.239990  840.799988  845.619995   779900\n",
       "58 2017-03-15  847.590027  848.630005  840.770020  847.200012  1379600\n",
       "59 2017-03-16  849.030029  850.849976  846.130005  848.780029   970400\n",
       "60 2017-03-17  851.609985  853.400024  847.109985  852.119995  1712300\n",
       "\n",
       "[61 rows x 6 columns]"
      ]
     },
     "execution_count": 35,
     "metadata": {},
     "output_type": "execute_result"
    }
   ],
   "source": [
    "# read the data and tell pandas the date column should be \n",
    "# a date in the resulting DataFrame\n",
    "df = pd.read_csv('data/goog.csv', parse_dates=['Date'])\n",
    "df"
   ]
  },
  {
   "cell_type": "code",
   "execution_count": 36,
   "metadata": {
    "collapsed": false
   },
   "outputs": [
    {
     "data": {
      "text/plain": [
       "pandas._libs.tslib.Timestamp"
      ]
     },
     "execution_count": 36,
     "metadata": {},
     "output_type": "execute_result"
    }
   ],
   "source": [
    "# verify the type now is date\n",
    "# in pandas, this is actually a Timestamp\n",
    "type(df.Date[0])"
   ]
  },
  {
   "cell_type": "code",
   "execution_count": 37,
   "metadata": {
    "collapsed": false
   },
   "outputs": [
    {
     "data": {
      "text/plain": [
       "RangeIndex(start=0, stop=61, step=1)"
      ]
     },
     "execution_count": 37,
     "metadata": {},
     "output_type": "execute_result"
    }
   ],
   "source": [
    "# unfortunately the index is numeric which makes\n",
    "# accessing data by date more complicated\n",
    "df.index"
   ]
  },
  {
   "cell_type": "code",
   "execution_count": 38,
   "metadata": {
    "collapsed": false
   },
   "outputs": [
    {
     "data": {
      "text/plain": [
       "                  Open        High         Low       Close   Volume\n",
       "Date                                                               \n",
       "2016-12-19  790.219971  797.659973  786.270020  794.200012  1225900\n",
       "2016-12-20  796.760010  798.650024  793.270020  796.419983   925100\n",
       "2016-12-21  795.840027  796.676025  787.099976  794.559998  1208700\n",
       "2016-12-22  792.359985  793.320007  788.580017  791.260010   969100\n",
       "2016-12-23  790.900024  792.739990  787.280029  789.909973   623400\n",
       "...                ...         ...         ...         ...      ...\n",
       "2017-03-13  844.000000  848.684998  843.250000  845.539978  1149500\n",
       "2017-03-14  843.640015  847.239990  840.799988  845.619995   779900\n",
       "2017-03-15  847.590027  848.630005  840.770020  847.200012  1379600\n",
       "2017-03-16  849.030029  850.849976  846.130005  848.780029   970400\n",
       "2017-03-17  851.609985  853.400024  847.109985  852.119995  1712300\n",
       "\n",
       "[61 rows x 5 columns]"
      ]
     },
     "execution_count": 38,
     "metadata": {},
     "output_type": "execute_result"
    }
   ],
   "source": [
    "# read in again, now specity the data column as being the \n",
    "# index of the resulting DataFrame\n",
    "df = pd.read_csv('data/goog.csv', \n",
    "                 parse_dates=['Date'], \n",
    "                 index_col='Date')\n",
    "df"
   ]
  },
  {
   "cell_type": "code",
   "execution_count": 39,
   "metadata": {
    "collapsed": false
   },
   "outputs": [
    {
     "data": {
      "text/plain": [
       "DatetimeIndex(['2016-12-19', '2016-12-20', '2016-12-21', '2016-12-22',\n",
       "               '2016-12-23', '2016-12-27', '2016-12-28', '2016-12-29',\n",
       "               '2016-12-30', '2017-01-03', '2017-01-04', '2017-01-05',\n",
       "               '2017-01-06', '2017-01-09', '2017-01-10', '2017-01-11',\n",
       "               '2017-01-12', '2017-01-13', '2017-01-17', '2017-01-18',\n",
       "               '2017-01-19', '2017-01-20', '2017-01-23', '2017-01-24',\n",
       "               '2017-01-25', '2017-01-26', '2017-01-27', '2017-01-30',\n",
       "               '2017-01-31', '2017-02-01', '2017-02-02', '2017-02-03',\n",
       "               '2017-02-06', '2017-02-07', '2017-02-08', '2017-02-09',\n",
       "               '2017-02-10', '2017-02-13', '2017-02-14', '2017-02-15',\n",
       "               '2017-02-16', '2017-02-17', '2017-02-21', '2017-02-22',\n",
       "               '2017-02-23', '2017-02-24', '2017-02-27', '2017-02-28',\n",
       "               '2017-03-01', '2017-03-02', '2017-03-03', '2017-03-06',\n",
       "               '2017-03-07', '2017-03-08', '2017-03-09', '2017-03-10',\n",
       "               '2017-03-13', '2017-03-14', '2017-03-15', '2017-03-16',\n",
       "               '2017-03-17'],\n",
       "              dtype='datetime64[ns]', name='Date', freq=None)"
      ]
     },
     "execution_count": 39,
     "metadata": {},
     "output_type": "execute_result"
    }
   ],
   "source": [
    "# and the index is now a DatetimeIndex\n",
    "df.index"
   ]
  },
  {
   "cell_type": "markdown",
   "metadata": {},
   "source": [
    "# Visualization"
   ]
  },
  {
   "cell_type": "code",
   "execution_count": 40,
   "metadata": {
    "collapsed": false
   },
   "outputs": [
    {
     "data": {
      "image/png": "[encoded data removed]",
      "text/plain": [
       "<matplotlib.figure.Figure at 0x10eb97ba8>"
      ]
     },
     "metadata": {},
     "output_type": "display_data"
    }
   ],
   "source": [
    "# plots the values in the Close column\n",
    "df.Close.plot();"
   ]
  }
 ],
 "metadata": {
  "anaconda-cloud": {},
  "kernelspec": {
   "display_name": "Python 3",
   "language": "python",
   "name": "python3"
  },
  "language_info": {
   "codemirror_mode": {
    "name": "ipython",
    "version": 3
   },
   "file_extension": ".py",
   "mimetype": "text/x-python",
   "name": "python",
   "nbconvert_exporter": "python",
   "pygments_lexer": "ipython3",
   "version": "3.6.1"
  }
 },
 "nbformat": 4,
 "nbformat_minor": 0
}
