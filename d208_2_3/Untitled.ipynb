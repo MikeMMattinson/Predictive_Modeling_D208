{
 "cells": [
  {
   "cell_type": "code",
   "execution_count": 1,
   "id": "16287b1d-469e-4846-b491-45f2b23cedbc",
   "metadata": {},
   "outputs": [
    {
     "name": "stdout",
     "output_type": "stream",
     "text": [
      "Requirement already satisfied: pandas in w:\\code\\wgu\\py39\\lib\\site-packages (1.4.2)\n",
      "Requirement already satisfied: python-dateutil>=2.8.1 in w:\\code\\wgu\\py39\\lib\\site-packages (from pandas) (2.8.2)\n",
      "Requirement already satisfied: numpy>=1.18.5 in w:\\code\\wgu\\py39\\lib\\site-packages (from pandas) (1.22.3)\n",
      "Requirement already satisfied: pytz>=2020.1 in w:\\code\\wgu\\py39\\lib\\site-packages (from pandas) (2022.1)\n",
      "Requirement already satisfied: six>=1.5 in w:\\code\\wgu\\py39\\lib\\site-packages (from python-dateutil>=2.8.1->pandas) (1.16.0)\n",
      "Note: you may need to restart the kernel to use updated packages.\n"
     ]
    }
   ],
   "source": [
    "%pip install pandas"
   ]
  },
  {
   "cell_type": "code",
   "execution_count": 3,
   "id": "ad92b345-fbd6-474f-bdbd-12e907f58d2a",
   "metadata": {},
   "outputs": [
    {
     "name": "stdout",
     "output_type": "stream",
     "text": [
      "Package              VersionNote: you may need to restart the kernel to use updated packages.\n",
      "\n",
      "-------------------- -----------\n",
      "anyio                3.5.0\n",
      "apyori               1.1.2\n",
      "argon2-cffi          21.3.0\n",
      "argon2-cffi-bindings 21.2.0\n",
      "asttokens            2.0.5\n",
      "attrs                21.4.0\n",
      "Babel                2.10.1\n",
      "backcall             0.2.0\n",
      "beautifulsoup4       4.11.1\n",
      "bleach               5.0.0\n",
      "certifi              2021.10.8\n",
      "cffi                 1.15.0\n",
      "charset-normalizer   2.0.12\n",
      "colorama             0.4.4\n",
      "cycler               0.11.0\n",
      "debugpy              1.6.0\n",
      "decorator            5.1.1\n",
      "defusedxml           0.7.1\n",
      "dmba                 0.1.0\n",
      "entrypoints          0.4\n",
      "executing            0.8.3\n",
      "fastjsonschema       2.15.3\n",
      "fonttools            4.33.3\n",
      "idna                 3.3\n",
      "importlib-metadata   4.11.3\n",
      "ipykernel            6.13.0\n",
      "ipython              8.3.0\n",
      "ipython-genutils     0.2.0\n",
      "jedi                 0.18.1\n",
      "Jinja2               3.1.2\n",
      "joblib               1.1.0\n",
      "json5                0.9.8\n",
      "jsonschema           4.5.1\n",
      "jupyter-client       7.3.1\n",
      "jupyter-core         4.10.0\n",
      "jupyter-server       1.17.0\n",
      "jupyterlab           3.4.0\n",
      "jupyterlab-pygments  0.2.2\n",
      "jupyterlab-server    2.13.0\n",
      "kiwisolver           1.4.2\n",
      "kneed                0.7.0\n",
      "MarkupSafe           2.1.1\n",
      "matplotlib           3.5.2\n",
      "matplotlib-inline    0.1.3\n",
      "mistune              0.8.4\n",
      "mlxtend              0.19.0\n",
      "nbclassic            0.3.7\n",
      "nbclient             0.6.3\n",
      "nbconvert            6.5.0\n",
      "nbformat             5.4.0\n",
      "nest-asyncio         1.5.5\n",
      "notebook             6.4.11\n",
      "notebook-shim        0.1.0\n",
      "numpy                1.22.3\n",
      "packaging            21.3\n",
      "pandas               1.4.2\n",
      "pandocfilters        1.5.0\n",
      "parso                0.8.3\n",
      "pickleshare          0.7.5\n",
      "Pillow               9.1.0\n",
      "pip                  22.1\n",
      "prometheus-client    0.14.1\n",
      "prompt-toolkit       3.0.29\n",
      "psutil               5.9.0\n",
      "pure-eval            0.2.2\n",
      "pycparser            2.21\n",
      "pyfiglet             0.8.post1\n",
      "Pygments             2.12.0\n",
      "pyparsing            3.0.8\n",
      "pyrsistent           0.18.1\n",
      "python-dateutil      2.8.2\n",
      "pytz                 2022.1\n",
      "pywin32              304\n",
      "pywinpty             2.0.5\n",
      "pyzmq                22.3.0\n",
      "requests             2.27.1\n",
      "scikit-learn         1.0.2\n",
      "scipy                1.8.0\n",
      "seaborn              0.11.2\n",
      "Send2Trash           1.8.0\n",
      "setuptools           57.4.0\n",
      "six                  1.16.0\n",
      "sklearn              0.0\n",
      "sniffio              1.2.0\n",
      "soupsieve            2.3.2.post1\n",
      "stack-data           0.2.0\n",
      "terminado            0.13.3\n",
      "threadpoolctl        3.1.0\n",
      "tinycss2             1.1.1\n",
      "tornado              6.1\n",
      "traitlets            5.1.1\n",
      "urllib3              1.26.9\n",
      "wcwidth              0.2.5\n",
      "webencodings         0.5.1\n",
      "websocket-client     1.3.2\n",
      "zipp                 3.8.0\n"
     ]
    }
   ],
   "source": [
    "%pip list"
   ]
  },
  {
   "cell_type": "code",
   "execution_count": 5,
   "id": "39f0e33c-1057-4a1b-87ef-4b98d645123e",
   "metadata": {},
   "outputs": [
    {
     "name": "stdout",
     "output_type": "stream",
     "text": [
      "Collecting statsmodels\n",
      "  Downloading statsmodels-0.13.2-cp39-cp39-win_amd64.whl (9.1 MB)\n",
      "     ---------------------------------------- 9.1/9.1 MB 53.3 MB/s eta 0:00:00\n",
      "Collecting patsy>=0.5.2\n",
      "  Downloading patsy-0.5.2-py2.py3-none-any.whl (233 kB)\n",
      "     ---------------------------------------- 233.7/233.7 kB ? eta 0:00:00\n",
      "Requirement already satisfied: packaging>=21.3 in w:\\code\\wgu\\py39\\lib\\site-packages (from statsmodels) (21.3)\n",
      "Requirement already satisfied: numpy>=1.17 in w:\\code\\wgu\\py39\\lib\\site-packages (from statsmodels) (1.22.3)\n",
      "Requirement already satisfied: scipy>=1.3 in w:\\code\\wgu\\py39\\lib\\site-packages (from statsmodels) (1.8.0)\n",
      "Requirement already satisfied: pandas>=0.25 in w:\\code\\wgu\\py39\\lib\\site-packages (from statsmodels) (1.4.2)\n",
      "Requirement already satisfied: pyparsing!=3.0.5,>=2.0.2 in w:\\code\\wgu\\py39\\lib\\site-packages (from packaging>=21.3->statsmodels) (3.0.8)\n",
      "Requirement already satisfied: python-dateutil>=2.8.1 in w:\\code\\wgu\\py39\\lib\\site-packages (from pandas>=0.25->statsmodels) (2.8.2)\n",
      "Requirement already satisfied: pytz>=2020.1 in w:\\code\\wgu\\py39\\lib\\site-packages (from pandas>=0.25->statsmodels) (2022.1)\n",
      "Requirement already satisfied: six in w:\\code\\wgu\\py39\\lib\\site-packages (from patsy>=0.5.2->statsmodels) (1.16.0)\n",
      "Installing collected packages: patsy, statsmodels\n",
      "Successfully installed patsy-0.5.2 statsmodels-0.13.2\n",
      "Note: you may need to restart the kernel to use updated packages.\n"
     ]
    }
   ],
   "source": [
    "%pip install statsmodels"
   ]
  },
  {
   "cell_type": "code",
   "execution_count": null,
   "id": "5fb2e60f-a673-411f-98f9-6e2dadd93aac",
   "metadata": {},
   "outputs": [],
   "source": []
  }
 ],
 "metadata": {
  "kernelspec": {
   "display_name": "Python 3 (ipykernel)",
   "language": "python",
   "name": "python3"
  },
  "language_info": {
   "codemirror_mode": {
    "name": "ipython",
    "version": 3
   },
   "file_extension": ".py",
   "mimetype": "text/x-python",
   "name": "python",
   "nbconvert_exporter": "python",
   "pygments_lexer": "ipython3",
   "version": "3.9.7"
  }
 },
 "nbformat": 4,
 "nbformat_minor": 5
}
