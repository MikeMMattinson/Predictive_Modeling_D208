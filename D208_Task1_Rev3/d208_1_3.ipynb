{
 "cells": [
  {
   "cell_type": "markdown",
   "source": [
    "# WGU D208 TASK 1 REV 3 - MATTINSON"
   ],
   "metadata": {}
  },
  {
   "cell_type": "markdown",
   "source": [
    "Author: Mike Mattinson"
   ],
   "metadata": {}
  },
  {
   "cell_type": "markdown",
   "source": [
    "See pip_list_xxx.txt in readme folder for list of installed package"
   ],
   "metadata": {}
  },
  {
   "cell_type": "code",
   "execution_count": 5,
   "source": [
    "# generic imports\r\n",
    "import os\r\n",
    "import sys\r\n",
    "\r\n",
    "# math\r\n",
    "import numpy\r\n",
    "import scipy"
   ],
   "outputs": [],
   "metadata": {}
  },
  {
   "cell_type": "code",
   "execution_count": 3,
   "source": [
    "# output python environment\r\n",
    "print(sys.version)\r\n",
    "print(sys.executable)"
   ],
   "outputs": [
    {
     "output_type": "stream",
     "name": "stdout",
     "text": [
      "3.9.6 (tags/v3.9.6:db3ff76, Jun 28 2021, 15:26:21) [MSC v.1929 64 bit (AMD64)]\n",
      "p:\\code_wgu\\5\\v\\Scripts\\python.exe\n"
     ]
    }
   ],
   "metadata": {}
  }
 ],
 "metadata": {
  "orig_nbformat": 4,
  "language_info": {
   "name": "python",
   "version": "3.9.6",
   "mimetype": "text/x-python",
   "codemirror_mode": {
    "name": "ipython",
    "version": 3
   },
   "pygments_lexer": "ipython3",
   "nbconvert_exporter": "python",
   "file_extension": ".py"
  },
  "kernelspec": {
   "name": "python3",
   "display_name": "Python 3.9.6 64-bit ('v': venv)"
  },
  "interpreter": {
   "hash": "7ec9ddab846ab35e0b593fcb4cf136937a9f858131f0b99e6e6fda1922a58995"
  }
 },
 "nbformat": 4,
 "nbformat_minor": 2
}